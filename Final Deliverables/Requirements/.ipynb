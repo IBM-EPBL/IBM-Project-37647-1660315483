{
  "nbformat": 4,
  "nbformat_minor": 0,
  "metadata": {
    "colab": {
      "private_outputs": true,
      "provenance": [],
      "authorship_tag": "ABX9TyM1fL2Gdaazayr3Qfwgq3xK",
      "include_colab_link": true
    },
    "kernelspec": {
      "name": "python3",
      "display_name": "Python 3"
    },
    "language_info": {
      "name": "python"
    }
  },
  "cells": [
    {
      "cell_type": "markdown",
      "metadata": {
        "id": "view-in-github",
        "colab_type": "text"
      },
      "source": [
        "<a href=\"https://colab.research.google.com/github/IBM-EPBL/IBM-Project-37647-1660315483/blob/main/Final%20Deliverables/Requirements/.ipynb\" target=\"_parent\"><img src=\"https://colab.research.google.com/assets/colab-badge.svg\" alt=\"Open In Colab\"/></a>"
      ]
    },
    {
      "cell_type": "code",
      "execution_count": null,
      "metadata": {
        "id": "dDUcb-0In-Kz"
      },
      "outputs": [],
      "source": [
        "Flask==1.1.2\n",
        "matplotlib==3.3.4\n",
        "numpy>=1.21\n",
        "pandas==1.2.4\n",
        "scikit_learn==1.0.2\n",
        "seaborn==0.11.1\n",
        "pickle-mixin==1.0.2"
      ]
    }
  ]
}