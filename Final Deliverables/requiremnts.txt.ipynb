{
  "nbformat": 4,
  "nbformat_minor": 0,
  "metadata": {
    "colab": {
      "private_outputs": true,
      "provenance": [],
      "authorship_tag": "ABX9TyMzQB87AVlyGqmK18uX5orH"
    },
    "kernelspec": {
      "name": "python3",
      "display_name": "Python 3"
    },
    "language_info": {
      "name": "python"
    }
  },
  "cells": [
    {
      "cell_type": "code",
      "execution_count": null,
      "metadata": {
        "id": "0Ft8PJMG4E-N"
      },
      "outputs": [],
      "source": [
        "Flask==1.1.2\n",
        "matplotlib==3.3.4\n",
        "numpy>=1.21\n",
        "pandas==1.2.4\n",
        "scikit_learn==1.0.2\n",
        "seaborn==0.11.1\n",
        "pickle-mixin==1.0.2"
      ]
    },
    {
      "cell_type": "code",
      "source": [],
      "metadata": {
        "id": "ECOnBvK95dnE"
      },
      "execution_count": null,
      "outputs": []
    }
  ]
}